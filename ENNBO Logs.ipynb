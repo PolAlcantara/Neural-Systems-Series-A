{
 "cells": [
  {
   "cell_type": "code",
   "execution_count": 2,
   "metadata": {
    "collapsed": true
   },
   "outputs": [],
   "source": [
    "import os\n",
    "import numpy as np"
   ]
  },
  {
   "cell_type": "markdown",
   "metadata": {},
   "source": [
    "Código para generar reporte de ENNBO"
   ]
  },
  {
   "cell_type": "code",
   "execution_count": 4,
   "metadata": {},
   "outputs": [],
   "source": [
    "source='C:\\\\Users\\\\alcantara\\\\Documents\\\\ENNBO\\\\Logs\\\\MT4\\\\2018\\\\7'\n",
    "\n",
    "Palabra=['PIVOTS','GBPJPY','EURUSD','MODIFY','GBPUSD','AUDUSD','XAUUSD']\n",
    "\n",
    "for log in os.listdir(source):\n",
    "    file=open(source+'\\\\'+log)\n",
    "    lines=file.readlines()\n",
    "    file.close()\n",
    "    \n",
    "    archivo=os.path.basename(source+'\\\\'+log)\n",
    "    year=archivo[0:4]\n",
    "    month=archivo[4:6]\n",
    "    day=archivo[6:8]\n",
    "    fecha=day+\"/\"+month+\"/\"+year\n",
    "\n",
    "    reporte=open('Reporte.txt',\"a\")\n",
    "    for line in lines:\n",
    "        target=[]\n",
    "        line=line.strip().upper()\n",
    "        for p in Palabra:  \n",
    "            valor=line.find(p)\n",
    "            target.append(valor)\n",
    "        target=np.max(target)\n",
    "        if target<0:\n",
    "            reporte.write(fecha)\n",
    "            reporte.write(\"\\t\")\n",
    "            reporte.write(line)\n",
    "            reporte.write(\"\\n\")  \n",
    "    reporte.close()"
   ]
  },
  {
   "cell_type": "code",
   "execution_count": 5,
   "metadata": {},
   "outputs": [
    {
     "data": {
      "text/plain": [
       "['20180601.log',\n",
       " '20180603.log',\n",
       " '20180604.log',\n",
       " '20180605.log',\n",
       " '20180606.log',\n",
       " '20180607.log',\n",
       " '20180608.log',\n",
       " '20180610.log',\n",
       " '20180611.log',\n",
       " '20180612.log',\n",
       " '20180613.log',\n",
       " '20180614.log',\n",
       " '20180615.log',\n",
       " '20180617.log',\n",
       " '20180618.log',\n",
       " '20180619.log',\n",
       " '20180620.log']"
      ]
     },
     "execution_count": 5,
     "metadata": {},
     "output_type": "execute_result"
    }
   ],
   "source": [
    "os.listdir(source)"
   ]
  },
  {
   "cell_type": "markdown",
   "metadata": {},
   "source": [
    "Borrar archivo y todo su contenido"
   ]
  },
  {
   "cell_type": "code",
   "execution_count": null,
   "metadata": {
    "collapsed": true
   },
   "outputs": [],
   "source": [
    "open('Reporte.txt','w').close()"
   ]
  }
 ],
 "metadata": {
  "kernelspec": {
   "display_name": "Python 3",
   "language": "python",
   "name": "python3"
  },
  "language_info": {
   "codemirror_mode": {
    "name": "ipython",
    "version": 3
   },
   "file_extension": ".py",
   "mimetype": "text/x-python",
   "name": "python",
   "nbconvert_exporter": "python",
   "pygments_lexer": "ipython3",
   "version": "3.6.1"
  }
 },
 "nbformat": 4,
 "nbformat_minor": 2
}
